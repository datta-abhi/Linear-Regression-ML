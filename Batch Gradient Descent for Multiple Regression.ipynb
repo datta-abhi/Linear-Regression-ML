{
 "cells": [
  {
   "cell_type": "code",
   "execution_count": 20,
   "id": "49b0d4bb",
   "metadata": {},
   "outputs": [],
   "source": [
    "import numpy as np\n",
    "import pandas as pd\n",
    "import matplotlib.pyplot as plt\n",
    "import seaborn as sns"
   ]
  },
  {
   "cell_type": "markdown",
   "id": "0c7a09b3",
   "metadata": {},
   "source": [
    "## Diabetes dataset"
   ]
  },
  {
   "cell_type": "code",
   "execution_count": 21,
   "id": "1582e587",
   "metadata": {},
   "outputs": [],
   "source": [
    "from sklearn.datasets import load_diabetes"
   ]
  },
  {
   "cell_type": "code",
   "execution_count": 22,
   "id": "e82bcbed",
   "metadata": {},
   "outputs": [],
   "source": [
    "df = pd.DataFrame(data= load_diabetes().data,columns=load_diabetes().feature_names)"
   ]
  },
  {
   "cell_type": "code",
   "execution_count": 23,
   "id": "a3114e37",
   "metadata": {},
   "outputs": [],
   "source": [
    "df['target'] = load_diabetes().target"
   ]
  },
  {
   "cell_type": "code",
   "execution_count": 24,
   "id": "4a1ebe6b",
   "metadata": {},
   "outputs": [],
   "source": [
    "X = df.drop(columns='target')\n",
    "y = df['target']"
   ]
  },
  {
   "cell_type": "code",
   "execution_count": 25,
   "id": "e62585bd",
   "metadata": {},
   "outputs": [
    {
     "name": "stdout",
     "output_type": "stream",
     "text": [
      "(442, 10)\n",
      "(442,)\n"
     ]
    }
   ],
   "source": [
    "print(X.shape)\n",
    "print(y.shape)"
   ]
  },
  {
   "cell_type": "code",
   "execution_count": 26,
   "id": "f91a785d",
   "metadata": {},
   "outputs": [
    {
     "data": {
      "text/html": [
       "<div>\n",
       "<style scoped>\n",
       "    .dataframe tbody tr th:only-of-type {\n",
       "        vertical-align: middle;\n",
       "    }\n",
       "\n",
       "    .dataframe tbody tr th {\n",
       "        vertical-align: top;\n",
       "    }\n",
       "\n",
       "    .dataframe thead th {\n",
       "        text-align: right;\n",
       "    }\n",
       "</style>\n",
       "<table border=\"1\" class=\"dataframe\">\n",
       "  <thead>\n",
       "    <tr style=\"text-align: right;\">\n",
       "      <th></th>\n",
       "      <th>age</th>\n",
       "      <th>sex</th>\n",
       "      <th>bmi</th>\n",
       "      <th>bp</th>\n",
       "      <th>s1</th>\n",
       "      <th>s2</th>\n",
       "      <th>s3</th>\n",
       "      <th>s4</th>\n",
       "      <th>s5</th>\n",
       "      <th>s6</th>\n",
       "      <th>target</th>\n",
       "    </tr>\n",
       "  </thead>\n",
       "  <tbody>\n",
       "    <tr>\n",
       "      <th>0</th>\n",
       "      <td>0.038076</td>\n",
       "      <td>0.050680</td>\n",
       "      <td>0.061696</td>\n",
       "      <td>0.021872</td>\n",
       "      <td>-0.044223</td>\n",
       "      <td>-0.034821</td>\n",
       "      <td>-0.043401</td>\n",
       "      <td>-0.002592</td>\n",
       "      <td>0.019907</td>\n",
       "      <td>-0.017646</td>\n",
       "      <td>151.0</td>\n",
       "    </tr>\n",
       "    <tr>\n",
       "      <th>1</th>\n",
       "      <td>-0.001882</td>\n",
       "      <td>-0.044642</td>\n",
       "      <td>-0.051474</td>\n",
       "      <td>-0.026328</td>\n",
       "      <td>-0.008449</td>\n",
       "      <td>-0.019163</td>\n",
       "      <td>0.074412</td>\n",
       "      <td>-0.039493</td>\n",
       "      <td>-0.068332</td>\n",
       "      <td>-0.092204</td>\n",
       "      <td>75.0</td>\n",
       "    </tr>\n",
       "    <tr>\n",
       "      <th>2</th>\n",
       "      <td>0.085299</td>\n",
       "      <td>0.050680</td>\n",
       "      <td>0.044451</td>\n",
       "      <td>-0.005670</td>\n",
       "      <td>-0.045599</td>\n",
       "      <td>-0.034194</td>\n",
       "      <td>-0.032356</td>\n",
       "      <td>-0.002592</td>\n",
       "      <td>0.002861</td>\n",
       "      <td>-0.025930</td>\n",
       "      <td>141.0</td>\n",
       "    </tr>\n",
       "  </tbody>\n",
       "</table>\n",
       "</div>"
      ],
      "text/plain": [
       "        age       sex       bmi        bp        s1        s2        s3  \\\n",
       "0  0.038076  0.050680  0.061696  0.021872 -0.044223 -0.034821 -0.043401   \n",
       "1 -0.001882 -0.044642 -0.051474 -0.026328 -0.008449 -0.019163  0.074412   \n",
       "2  0.085299  0.050680  0.044451 -0.005670 -0.045599 -0.034194 -0.032356   \n",
       "\n",
       "         s4        s5        s6  target  \n",
       "0 -0.002592  0.019907 -0.017646   151.0  \n",
       "1 -0.039493 -0.068332 -0.092204    75.0  \n",
       "2 -0.002592  0.002861 -0.025930   141.0  "
      ]
     },
     "execution_count": 26,
     "metadata": {},
     "output_type": "execute_result"
    }
   ],
   "source": [
    "df.head(3)"
   ]
  },
  {
   "cell_type": "markdown",
   "id": "bb7f8932",
   "metadata": {},
   "source": [
    "## Train Test Split2"
   ]
  },
  {
   "cell_type": "code",
   "execution_count": 27,
   "id": "1d875f6a",
   "metadata": {},
   "outputs": [],
   "source": [
    "from sklearn.model_selection import train_test_split\n",
    "\n",
    "X_train, X_test, y_train, y_test = train_test_split(X, y, test_size=0.3, random_state=28)"
   ]
  },
  {
   "cell_type": "markdown",
   "id": "504039e9",
   "metadata": {},
   "source": [
    "## Fitting Linear Regression sklearn --> OLS Method"
   ]
  },
  {
   "cell_type": "code",
   "execution_count": 28,
   "id": "8938116b",
   "metadata": {},
   "outputs": [
    {
     "name": "stdout",
     "output_type": "stream",
     "text": [
      "Coeffecients:  [  -3.45774513 -244.74742301  473.42705261  367.1454326  -869.09666002\n",
      "  486.12307597  183.86546993  276.74351786  777.9749957    85.3137622 ]\n",
      "Intercept:  151.15225686589025\n",
      "RMSE:  56.13\n",
      "R2 score:  0.46\n"
     ]
    }
   ],
   "source": [
    "from sklearn.linear_model import LinearRegression\n",
    "lr = LinearRegression()\n",
    "\n",
    "lr.fit(X_train,y_train)\n",
    "\n",
    "print('Coeffecients: ',lr.coef_)\n",
    "print('Intercept: ',lr.intercept_)\n",
    "\n",
    "y_pred = lr.predict(X_test)\n",
    "\n",
    "from sklearn.metrics import r2_score,mean_squared_error\n",
    "\n",
    "print('RMSE: ',np.round(np.sqrt(mean_squared_error(y_test,y_pred)),2))\n",
    "print('R2 score: ',np.round(r2_score(y_test,y_pred),2))"
   ]
  },
  {
   "cell_type": "markdown",
   "id": "60f4f52c",
   "metadata": {},
   "source": [
    "## Create Batch Gradient Descent from scratch"
   ]
  },
  {
   "cell_type": "code",
   "execution_count": 29,
   "id": "a3f4ada9",
   "metadata": {},
   "outputs": [],
   "source": [
    "class MyBatchGD:\n",
    "    \n",
    "    def __init__(self,rate=0.05,epochs=100):\n",
    "        self.rate = rate\n",
    "        self.epochs = epochs\n",
    "        self.coef = None\n",
    "        self.intercept = None\n",
    "        self.loss_list = None\n",
    "        \n",
    "    def fit(self,X,y):\n",
    "        \n",
    "#         initialising intercept and coeffecients\n",
    "        self.intercept = 0\n",
    "        self.coef = np.ones(X.shape[1])\n",
    "        \n",
    "        self.loss_list = []\n",
    "        \n",
    "        for i in range(self.epochs):\n",
    "            \n",
    "            y_hat = np.dot(X,self.coef) + self.intercept\n",
    "            \n",
    "            self.loss_list.append(np.mean(np.square(y - y_hat)))\n",
    "            \n",
    "#             slope calculations\n",
    "            loss_slope_intercept = -2*np.mean(y - y_hat)\n",
    "            loss_slope_coef = -2*(np.dot((y-y_hat),X))/X.shape[0]\n",
    "        \n",
    "        \n",
    "#             updating intercept\n",
    "            self.intercept = self.intercept - (self.rate*loss_slope_intercept)\n",
    "    \n",
    "#             updating coeffecients\n",
    "            self.coef = self.coef - (self.rate*loss_slope_coef)\n",
    "        \n",
    "        \n",
    "    def predict(self,X):\n",
    "        return np.dot(X,self.coef) + self.intercept\n",
    "    "
   ]
  },
  {
   "cell_type": "code",
   "execution_count": 30,
   "id": "3b73e624",
   "metadata": {},
   "outputs": [],
   "source": [
    "model = MyBatchGD(rate = .5,epochs=1000)"
   ]
  },
  {
   "cell_type": "code",
   "execution_count": 31,
   "id": "a721168a",
   "metadata": {},
   "outputs": [],
   "source": [
    "model.fit(X_train,y_train)"
   ]
  },
  {
   "cell_type": "code",
   "execution_count": 32,
   "id": "405e30fe",
   "metadata": {},
   "outputs": [
    {
     "name": "stdout",
     "output_type": "stream",
     "text": [
      "Coeffeceints:  [   8.8553381  -192.21010665  454.03533348  347.85583213  -43.19385778\n",
      " -118.23475568 -203.56406697  138.85404639  412.4146923   127.36171603]\n",
      "Intercept 151.36258888008393\n"
     ]
    }
   ],
   "source": [
    "print('Coeffeceints: ',model.coef)\n",
    "print('Intercept',model.intercept)"
   ]
  },
  {
   "cell_type": "code",
   "execution_count": 33,
   "id": "5c27088f",
   "metadata": {
    "scrolled": true
   },
   "outputs": [
    {
     "data": {
      "text/plain": [
       "[29970.931215124,\n",
       " 3834.8109670256817,\n",
       " 3291.5754453108025,\n",
       " 3075.343332300145,\n",
       " 2961.694562366966,\n",
       " 2894.495654335479,\n",
       " 2852.8993247621625,\n",
       " 2826.5518323773936,\n",
       " 2809.588369476163,\n",
       " 2798.509876557441]"
      ]
     },
     "execution_count": 33,
     "metadata": {},
     "output_type": "execute_result"
    }
   ],
   "source": [
    "model.loss_list[::100]"
   ]
  },
  {
   "cell_type": "code",
   "execution_count": 34,
   "id": "e3057d38",
   "metadata": {},
   "outputs": [],
   "source": [
    "y_pred2 = model.predict(X_test)"
   ]
  },
  {
   "cell_type": "code",
   "execution_count": 35,
   "id": "22521ba7",
   "metadata": {},
   "outputs": [
    {
     "data": {
      "text/plain": [
       "0.4589494861613699"
      ]
     },
     "execution_count": 35,
     "metadata": {},
     "output_type": "execute_result"
    }
   ],
   "source": [
    "r2_score(y_test,y_pred2)"
   ]
  },
  {
   "cell_type": "code",
   "execution_count": 36,
   "id": "84962f40",
   "metadata": {},
   "outputs": [
    {
     "data": {
      "text/plain": [
       "(1432.2507154415089, 10000.0)"
      ]
     },
     "execution_count": 36,
     "metadata": {},
     "output_type": "execute_result"
    },
    {
     "data": {
      "image/png": "[encoded data removed]",
      "text/plain": [
       "<Figure size 640x480 with 1 Axes>"
      ]
     },
     "metadata": {},
     "output_type": "display_data"
    }
   ],
   "source": [
    "plt.plot(range(len(model.loss_list)),model.loss_list)\n",
    "# plt.xlim([1000,2000])\n",
    "plt.ylim(top = 10000)"
   ]
  },
  {
   "cell_type": "markdown",
   "id": "8e51bdff",
   "metadata": {},
   "source": [
    "## Effect of Learning rate on convergence of loss function"
   ]
  },
  {
   "cell_type": "code",
   "execution_count": 37,
   "id": "af439a8d",
   "metadata": {},
   "outputs": [
    {
     "data": {
      "text/plain": [
       "<matplotlib.legend.Legend at 0x1b7b1611310>"
      ]
     },
     "execution_count": 37,
     "metadata": {},
     "output_type": "execute_result"
    },
    {
     "data": {
      "image/png": "[encoded data removed]",
      "text/plain": [
       "<Figure size 640x480 with 1 Axes>"
      ]
     },
     "metadata": {},
     "output_type": "display_data"
    }
   ],
   "source": [
    "for l in [0.01,.1,.5,1]:\n",
    "    model = MyBatchGD(rate = l,epochs = 1000)\n",
    "    model.fit(X_train,y_train)\n",
    "    \n",
    "    plt.plot(range(len(model.loss_list)),model.loss_list,label = l)\n",
    "    \n",
    "plt.legend()    "
   ]
  },
  {
   "cell_type": "code",
   "execution_count": null,
   "id": "f906d1c6",
   "metadata": {},
   "outputs": [],
   "source": []
  }
 ],
 "metadata": {
  "kernelspec": {
   "display_name": "Python 3 (ipykernel)",
   "language": "python",
   "name": "python3"
  },
  "language_info": {
   "codemirror_mode": {
    "name": "ipython",
    "version": 3
   },
   "file_extension": ".py",
   "mimetype": "text/x-python",
   "name": "python",
   "nbconvert_exporter": "python",
   "pygments_lexer": "ipython3",
   "version": "3.11.4"
  }
 },
 "nbformat": 4,
 "nbformat_minor": 5
}
